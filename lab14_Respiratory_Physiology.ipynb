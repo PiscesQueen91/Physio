{
  "nbformat": 4,
  "nbformat_minor": 0,
  "metadata": {
    "colab": {
      "provenance": [],
      "authorship_tag": "ABX9TyNNoVGBfITEcHv0u7d2z8uE",
      "include_colab_link": true
    },
    "kernelspec": {
      "name": "python3",
      "display_name": "Python 3"
    },
    "language_info": {
      "name": "python"
    }
  },
  "cells": [
    {
      "cell_type": "markdown",
      "metadata": {
        "id": "view-in-github",
        "colab_type": "text"
      },
      "source": [
        "<a href=\"https://colab.research.google.com/github/PiscesQueen91/Physio/blob/main/lab14_Respiratory_Physiology.ipynb\" target=\"_parent\"><img src=\"https://colab.research.google.com/assets/colab-badge.svg\" alt=\"Open In Colab\"/></a>"
      ]
    },
    {
      "cell_type": "markdown",
      "source": [
        "**Purpose**:\n",
        "Air movement in and out of the lungs is vital for cellular respiration and the oxidation of nutrient molecules.The purpose of this lab is to study the (FVC) or forced vital capacity, which measures the rate in which air is expelled.The study was concucted with volunteers of both sexes. This study will also compare results between males and females.\n",
        "\n",
        "**Procedure**:\n",
        "1. The Morgan ComPAScomputer program has already calculated and factored in the BTPS (Body Temperature Pressure Saturation) correction factor.2. Fully insert the Pneumotracfilter/mouthpiece you purchased at the bookstore. If you have difficulty keeping air from leaking through your nose, you may need to wear a nose clip, as air leakage will result ininaccurate results.3. Be sure the correct student informationis loaded up before you start the FVC test.4. After starting the FVC test, followtheverbal instructions of your instructor: begin with your mouth off the mouthpiece so the pneumotach can equilibrate; after getting a good seal with your mouth, start with tidal breathing;when youare ready,take in the deepest breath possible,then forcefully blowitout as fast as you can and keep squeezing until instructed to stop. The instructor will print out your “FVCVolume Time Curve” (part of your 14-B results), and it should look similar to Figure 14-2.Fig. 14-2: A sample FVC from the Morgan ComPAS Pneumotrac.To calculate the vital capacity for the FVC test (also called the forced expiratory volume), measure the height of the highest peakof the curve in mm and multiply that length in mm by 66.67ml/mm(our FVC conversion factor). Then round off ml to wholenumbers. (NOTE: this is similar to the 14-A SVC calculations, but with a different conversion factor.) Just like in 14-A, use the gridlines to double check that your figures are in the ballpark (e.g., if you calculated the vital capacity in Fig. 14-2 on p. 94to be 3635 ml, you must be off because you can tell from just looking at the gridlines that it is much closer to 4500 ml than 3635 ml). Can you see this in Fig. 14-2?6. Go to the “1 second” vertical line in your FVC graph and measure the height where the curved line crosses the 1 second vertical line in the same way as you did for the FVC in step 5. This is your FEV1volume.7. Divide the volume you calculated for FEV1by the volume you calculated for the vital capacity in step 6, and then multiply by 100 to determine the percentage of the vital capacity exhaled at one second.8. Go to the “3 second” vertical line in your FVC graph and measure the height where the curved line crosses the 3 second vertical line in the same way as you did in steps 5and 6. This is your FEV3volume.9. Divide the volume you calculated for FEV3bythe volume you calculated for the vital capacity in step 6, and then multiply by 100 to determine the percentage of the vital capacity exhaled at three seconds. 10. Compare these values to the predicted values and explain possible causes for any differences.\n",
        "\n",
        "\n",
        "\n"
      ],
      "metadata": {
        "id": "nkX2gTrF0rTI"
      }
    },
    {
      "cell_type": "markdown",
      "source": [
        "**Results**:"
      ],
      "metadata": {
        "id": "bGpx-eE5eEd-"
      }
    },
    {
      "cell_type": "code",
      "execution_count": null,
      "metadata": {
        "id": "pz-rd0AjMnAz"
      },
      "outputs": [],
      "source": [
        "# import packages\n",
        "import statistics\n",
        "import pandas as pd\n",
        "import scipy.stats as stats\n",
        "from scipy.stats import sem\n",
        "from statistics import mean, stdev\n",
        "import matplotlib.pyplot as plt\n",
        "import numpy as np\n",
        "#include if using a jupyter notebook, remove if using a .py file\n",
        "%matplotlib inline"
      ]
    },
    {
      "cell_type": "markdown",
      "source": [],
      "metadata": {
        "id": "ZBNR5sUs0p-8"
      }
    },
    {
      "cell_type": "code",
      "source": [
        "f_vc = [2.7,3.7,3.2,3.45,3.2,3.1]\n",
        "m_vc = [3.3,4.5,3.7,]"
      ],
      "metadata": {
        "id": "W4Z3N00EV7sl"
      },
      "execution_count": null,
      "outputs": []
    },
    {
      "cell_type": "code",
      "source": [
        "#calculate the mean data\n",
        "fvc_mean= mean(f_vc)\n",
        "mvc_mean= mean(m_vc)\n",
        "fvc_mean, mvc_mean\n",
        "\n"
      ],
      "metadata": {
        "colab": {
          "base_uri": "https://localhost:8080/"
        },
        "id": "B7vXkx0pNQQM",
        "outputId": "906e5d76-3831-4027-c55b-355333c7cc0c"
      },
      "execution_count": null,
      "outputs": [
        {
          "output_type": "execute_result",
          "data": {
            "text/plain": [
              "(3.225, 3.8333333333333335)"
            ]
          },
          "metadata": {},
          "execution_count": 7
        }
      ]
    },
    {
      "cell_type": "code",
      "source": [
        "#calculate the sem data\n",
        "fvc_sem= sem(f_vc)\n",
        "mvc_sem= sem(m_vc)\n",
        "fvc_sem, mvc_sem\n"
      ],
      "metadata": {
        "colab": {
          "base_uri": "https://localhost:8080/"
        },
        "id": "WyZQdBzTN8bG",
        "outputId": "49dd14ef-86d7-4ed2-827e-fca6cfd4025d"
      },
      "execution_count": null,
      "outputs": [
        {
          "output_type": "execute_result",
          "data": {
            "text/plain": [
              "(0.13768926368215256, 0.3527668414752788)"
            ]
          },
          "metadata": {},
          "execution_count": 8
        }
      ]
    },
    {
      "cell_type": "code",
      "source": [
        "plt.bar(['male vc','female vc'],[fvc_mean, mvc_mean], yerr=[fvc_sem,mvc_sem],capsize=10)\n",
        "plt.xlabel('Bilogical Sex')\n",
        "plt.ylabel('Vital Capacity')\n",
        "plt.title('Vital capacity Differences in Male vs Female')\n",
        "\n"
      ],
      "metadata": {
        "colab": {
          "base_uri": "https://localhost:8080/",
          "height": 489
        },
        "id": "-sVqKzPQPuOK",
        "outputId": "9c9f6414-f79a-4ea1-c2fc-2918c12900a1"
      },
      "execution_count": null,
      "outputs": [
        {
          "output_type": "execute_result",
          "data": {
            "text/plain": [
              "Text(0.5, 1.0, 'Vital capacity Differences in Male vs Female')"
            ]
          },
          "metadata": {},
          "execution_count": 15
        },
        {
          "output_type": "display_data",
          "data": {
            "text/plain": [
              "<Figure size 640x480 with 1 Axes>"
            ],
            "image/png": "[encoded data removed]"
          },
          "metadata": {}
        }
      ]
    },
    {
      "cell_type": "code",
      "source": [
        "# import packages\n",
        "import statistics\n",
        "import pandas as pd\n",
        "import scipy.stats as stats\n",
        "from scipy.stats import sem\n",
        "from statistics import mean, stdev\n",
        "import matplotlib.pyplot as plt\n",
        "import numpy as np\n",
        "#include if using a jupyter notebook, remove if using a .py file\n",
        "%matplotlib inline"
      ],
      "metadata": {
        "id": "FuVW4gD4VsTp"
      },
      "execution_count": null,
      "outputs": []
    },
    {
      "cell_type": "code",
      "source": [
        "f_fev = [2.37,3.37,2.6,2.69,3.13,2.44]\n",
        "m_fev = [3.3,4.86,3.7]"
      ],
      "metadata": {
        "id": "sQxpOsHkVtth"
      },
      "execution_count": null,
      "outputs": []
    },
    {
      "cell_type": "code",
      "source": [
        "#calculate the mean data\n",
        "ffev_mean= mean(f_fev)\n",
        "mfev_mean= mean(m_fev)\n",
        "ffev_mean,mfev_mean\n",
        "\n",
        "\n"
      ],
      "metadata": {
        "colab": {
          "base_uri": "https://localhost:8080/"
        },
        "id": "zD3tWWUiW0Um",
        "outputId": "f7751b8e-af59-436b-f7d8-e7adf3e26576"
      },
      "execution_count": null,
      "outputs": [
        {
          "output_type": "execute_result",
          "data": {
            "text/plain": [
              "(2.7666666666666666, 3.9533333333333336)"
            ]
          },
          "metadata": {},
          "execution_count": 25
        }
      ]
    },
    {
      "cell_type": "code",
      "source": [
        "#calculate the sem data\n",
        "ffev_sem= sem(f_fev)\n",
        "mfev_sem= sem(m_fev)\n",
        "ffev_sem,mfev_sem\n"
      ],
      "metadata": {
        "colab": {
          "base_uri": "https://localhost:8080/"
        },
        "id": "bWfBDDcvXi3J",
        "outputId": "968b4582-7536-4839-ec4e-a02169bd2e3f"
      },
      "execution_count": null,
      "outputs": [
        {
          "output_type": "execute_result",
          "data": {
            "text/plain": [
              "(0.16265846973882972, 0.4678081278093024)"
            ]
          },
          "metadata": {},
          "execution_count": 26
        }
      ]
    },
    {
      "cell_type": "code",
      "source": [
        "plt.bar(['Male FEV','Female FEV'],[ffev_mean, fev_mean], yerr=[ffev_sem,mfev_sem],capsize=10)\n",
        "plt.xlabel('Bilogical Sex')\n",
        "plt.ylabel('Expiratory Volume')\n",
        "plt.title('Expiratory Volume Differences in Male vs Female')\n",
        "\n",
        "\n",
        "\n"
      ],
      "metadata": {
        "colab": {
          "base_uri": "https://localhost:8080/",
          "height": 489
        },
        "id": "DZO9eUcdYaLM",
        "outputId": "220d30f8-e986-420d-e3bb-7befd81b00e5"
      },
      "execution_count": null,
      "outputs": [
        {
          "output_type": "execute_result",
          "data": {
            "text/plain": [
              "Text(0.5, 1.0, 'Expiratory Volume Differences in Male vs Female')"
            ]
          },
          "metadata": {},
          "execution_count": 30
        },
        {
          "output_type": "display_data",
          "data": {
            "text/plain": [
              "<Figure size 640x480 with 1 Axes>"
            ],
            "image/png": "[encoded data removed]"
          },
          "metadata": {}
        }
      ]
    },
    {
      "cell_type": "markdown",
      "source": [
        "**Discussion**:\n",
        "  I really enjoyed the fact that we compared the (FVC) and (FEV) betwwen male and female because I never would have thought that there could be a diffirence in female and male anatomy. I am also surprised that females had a higher espiratory volume and vital capacity.\n",
        "\n",
        "  **Conclusion**: Exiparatory Volume and Vital capacity are important for cellular respiration and the oxidation of nutrient molecules.Healthy lungs expel 80% of vital capacity within one second and 95% within three seconds.  Failure to expel at these rates indicates lung that are diseased. Females had a higher epiratory volume and higher vital capacity.\n"
      ],
      "metadata": {
        "id": "B6AANnZ6eL5R"
      }
    },
    {
      "cell_type": "code",
      "source": [],
      "metadata": {
        "id": "LT-SImNgYtBE"
      },
      "execution_count": null,
      "outputs": []
    }
  ]
}